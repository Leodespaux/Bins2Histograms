{
 "cells": [
  {
   "cell_type": "code",
   "execution_count": 2,
   "metadata": {
    "collapsed": false
   },
   "outputs": [
    {
     "name": "stdout",
     "output_type": "stream",
     "text": [
      "What is the filename of the data to be analyzed?: PromBins.xlsx\n",
      "Found the following strains: \n",
      "\n",
      "\"0\" Parent\n",
      "\"1\" ADH1ps\n",
      "\"2\" HXT7ps\n",
      "\"3\" CCW12ps\n",
      "\"4\" HSP30ps\n",
      "\"5\" RHR2ps\n",
      "\"6\" HHF2ps\n",
      "\n",
      " Type the number corresponding to the desired columns separated by spaces and press enter. (i.e.: \"3 5 7\"): 0 6 3\n"
     ]
    },
    {
     "data": {
      "image/png": "[encoded data removed]",
      "text/plain": [
       "<matplotlib.figure.Figure at 0x110486860>"
      ]
     },
     "metadata": {},
     "output_type": "display_data"
    }
   ],
   "source": [
    "import pandas as pd\n",
    "import numpy as np\n",
    "import matplotlib.pyplot as plt\n",
    "import re\n",
    "import seaborn as sns\n",
    "import math\n",
    "from pandas import ExcelWriter\n",
    "%matplotlib inline \n",
    "\n",
    "def histoBins(filename):\n",
    "\n",
    "\t# Import files from excel\n",
    "\tdf = pd.read_excel(filename).transpose()\n",
    "\n",
    "\t# Drop and rearrange rows to make it easier for pandas to interpret\n",
    "\tdf.columns = df.iloc[0]\n",
    "\tdf = df.drop(df.index[0])\n",
    "\n",
    "\t# Gather a list of strains\n",
    "\tcounter = 0\n",
    "\tcolDict = {}\n",
    "\tprint(\"Found the following strains: \\n\")\n",
    "\tfor value in df.columns.values:\n",
    "\t\t\n",
    "\t\tprint(\"\\\"\" + str(counter) + \"\\\"\" \" \" + value)\n",
    "\t\tcolDict[str(counter)] = value\n",
    "\t\tcounter +=1\n",
    "\n",
    "\t# Query user for desired columns\n",
    "\tlabels = input(\"\\n Type the number corresponding to the desired columns separated by spaces and press enter. (i.e.: \\\"3 5 7\\\"): \")\n",
    "\tlabels = labels.split()\n",
    "\n",
    "\t# Match numbers to names of strains\n",
    "\tlabels2 = []\n",
    "\tfor num in labels:\n",
    "\t\tlabels2.append(colDict[num])\n",
    "\n",
    "\t# Retain desired columns\n",
    "\tdf2 = df\n",
    "\tdf2 = df2.reindex(columns = labels2)\n",
    "\tdf2 = df2.astype(float)\n",
    "\n",
    "\t# Make column width fullwidth to look like a histogram\n",
    "\tax = df2.plot(kind = 'bar', align = 'center', alpha = 0.7)\n",
    "\n",
    "\tfor container in ax.containers:\n",
    "\t\tplt.setp(container, width = 1)\n",
    "\n",
    "\tx0, x1 = ax.get_xlim()\n",
    "\tax.set_xlim(x0 -0.5, x1 + 0.25)\n",
    "\t(-0.5, 6.5)\n",
    "\tplt.tight_layout()\n",
    "\n",
    "\tplt.show()\n",
    "\n",
    "def askUser():\n",
    "\n",
    "    filename = input(\"What is the filename of the data to be analyzed?: \")\n",
    "    histoBins(filename)\n",
    "\n",
    "askUser()"
   ]
  },
  {
   "cell_type": "code",
   "execution_count": null,
   "metadata": {
    "collapsed": true
   },
   "outputs": [],
   "source": []
  }
 ],
 "metadata": {
  "kernelspec": {
   "display_name": "Python 3",
   "language": "python",
   "name": "python3"
  },
  "language_info": {
   "codemirror_mode": {
    "name": "ipython",
    "version": 3
   },
   "file_extension": ".py",
   "mimetype": "text/x-python",
   "name": "python",
   "nbconvert_exporter": "python",
   "pygments_lexer": "ipython3",
   "version": "3.4.3"
  }
 },
 "nbformat": 4,
 "nbformat_minor": 0
}
